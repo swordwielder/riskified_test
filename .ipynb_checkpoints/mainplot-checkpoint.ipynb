{
 "cells": [
  {
   "cell_type": "markdown",
   "id": "43752184-04a1-4fac-94eb-d7a3c3452907",
   "metadata": {},
   "source": [
    "1. Draw a boxplot showing the area size distribution for each shape."
   ]
  },
  {
   "cell_type": "code",
   "execution_count": 1,
   "id": "02fb69fd-58a1-4f7b-ac15-bccb4d79b647",
   "metadata": {},
   "outputs": [
    {
     "data": {
      "text/plain": [
       "<AxesSubplot:title={'center':'area'}, xlabel='shape'>"
      ]
     },
     "execution_count": 1,
     "metadata": {},
     "output_type": "execute_result"
    },
    {
     "data": {
      "image/png": "[encoded data removed]",
      "text/plain": [
       "<Figure size 432x288 with 1 Axes>"
      ]
     },
     "metadata": {
      "needs_background": "light"
     },
     "output_type": "display_data"
    }
   ],
   "source": [
    "import matplotlib\n",
    "import pandas as pd\n",
    "\n",
    "df = pd.read_csv('data.csv')\n",
    "\n",
    "boxplot = df.boxplot(by='shape',column=['area'], grid=False)\n",
    "\n",
    "boxplot"
   ]
  },
  {
   "cell_type": "markdown",
   "id": "f6d6254b-e7ab-4207-932a-debd4c0a9007",
   "metadata": {},
   "source": [
    "2. Calculate the mean, max, and standard deviation of the area size of each color."
   ]
  },
  {
   "cell_type": "markdown",
   "id": "adc8e87a-6f60-4127-87cb-5ba2eebcecd7",
   "metadata": {},
   "source": [
    "Mean of the color"
   ]
  },
  {
   "cell_type": "code",
   "execution_count": 2,
   "id": "21523474-0e8c-4331-b50d-0a50c5c07cc4",
   "metadata": {},
   "outputs": [
    {
     "data": {
      "text/html": [
       "<div>\n",
       "<style scoped>\n",
       "    .dataframe tbody tr th:only-of-type {\n",
       "        vertical-align: middle;\n",
       "    }\n",
       "\n",
       "    .dataframe tbody tr th {\n",
       "        vertical-align: top;\n",
       "    }\n",
       "\n",
       "    .dataframe thead th {\n",
       "        text-align: right;\n",
       "    }\n",
       "</style>\n",
       "<table border=\"1\" class=\"dataframe\">\n",
       "  <thead>\n",
       "    <tr style=\"text-align: right;\">\n",
       "      <th></th>\n",
       "      <th>color</th>\n",
       "      <th>area</th>\n",
       "    </tr>\n",
       "  </thead>\n",
       "  <tbody>\n",
       "    <tr>\n",
       "      <th>0</th>\n",
       "      <td>blue</td>\n",
       "      <td>3208.131667</td>\n",
       "    </tr>\n",
       "    <tr>\n",
       "      <th>1</th>\n",
       "      <td>green</td>\n",
       "      <td>5761.119231</td>\n",
       "    </tr>\n",
       "    <tr>\n",
       "      <th>2</th>\n",
       "      <td>red</td>\n",
       "      <td>3815.871034</td>\n",
       "    </tr>\n",
       "    <tr>\n",
       "      <th>3</th>\n",
       "      <td>yellow</td>\n",
       "      <td>4538.208088</td>\n",
       "    </tr>\n",
       "  </tbody>\n",
       "</table>\n",
       "</div>"
      ],
      "text/plain": [
       "    color         area\n",
       "0    blue  3208.131667\n",
       "1   green  5761.119231\n",
       "2     red  3815.871034\n",
       "3  yellow  4538.208088"
      ]
     },
     "execution_count": 2,
     "metadata": {},
     "output_type": "execute_result"
    }
   ],
   "source": [
    "df.groupby('color', as_index=False)['area'].mean()"
   ]
  },
  {
   "cell_type": "markdown",
   "id": "c010659a-5dd2-465f-9799-e86185f79ee0",
   "metadata": {},
   "source": [
    "Max of the color"
   ]
  },
  {
   "cell_type": "code",
   "execution_count": 3,
   "id": "2febf86e-22e2-44cc-a63f-f08952d83bd0",
   "metadata": {},
   "outputs": [
    {
     "data": {
      "text/html": [
       "<div>\n",
       "<style scoped>\n",
       "    .dataframe tbody tr th:only-of-type {\n",
       "        vertical-align: middle;\n",
       "    }\n",
       "\n",
       "    .dataframe tbody tr th {\n",
       "        vertical-align: top;\n",
       "    }\n",
       "\n",
       "    .dataframe thead th {\n",
       "        text-align: right;\n",
       "    }\n",
       "</style>\n",
       "<table border=\"1\" class=\"dataframe\">\n",
       "  <thead>\n",
       "    <tr style=\"text-align: right;\">\n",
       "      <th></th>\n",
       "      <th>color</th>\n",
       "      <th>area</th>\n",
       "    </tr>\n",
       "  </thead>\n",
       "  <tbody>\n",
       "    <tr>\n",
       "      <th>0</th>\n",
       "      <td>blue</td>\n",
       "      <td>21642.4</td>\n",
       "    </tr>\n",
       "    <tr>\n",
       "      <th>1</th>\n",
       "      <td>green</td>\n",
       "      <td>27759.1</td>\n",
       "    </tr>\n",
       "    <tr>\n",
       "      <th>2</th>\n",
       "      <td>red</td>\n",
       "      <td>31415.9</td>\n",
       "    </tr>\n",
       "    <tr>\n",
       "      <th>3</th>\n",
       "      <td>yellow</td>\n",
       "      <td>31415.9</td>\n",
       "    </tr>\n",
       "  </tbody>\n",
       "</table>\n",
       "</div>"
      ],
      "text/plain": [
       "    color     area\n",
       "0    blue  21642.4\n",
       "1   green  27759.1\n",
       "2     red  31415.9\n",
       "3  yellow  31415.9"
      ]
     },
     "execution_count": 3,
     "metadata": {},
     "output_type": "execute_result"
    }
   ],
   "source": [
    "df.groupby('color', as_index=False)['area'].max()"
   ]
  },
  {
   "cell_type": "markdown",
   "id": "b43282bb-48a2-49a4-83e5-e014306563cb",
   "metadata": {},
   "source": [
    "Standard deviation"
   ]
  },
  {
   "cell_type": "code",
   "execution_count": 4,
   "id": "57b939df-e54e-4f1c-9b00-88bd350c96d4",
   "metadata": {},
   "outputs": [
    {
     "data": {
      "text/html": [
       "<div>\n",
       "<style scoped>\n",
       "    .dataframe tbody tr th:only-of-type {\n",
       "        vertical-align: middle;\n",
       "    }\n",
       "\n",
       "    .dataframe tbody tr th {\n",
       "        vertical-align: top;\n",
       "    }\n",
       "\n",
       "    .dataframe thead th {\n",
       "        text-align: right;\n",
       "    }\n",
       "</style>\n",
       "<table border=\"1\" class=\"dataframe\">\n",
       "  <thead>\n",
       "    <tr style=\"text-align: right;\">\n",
       "      <th></th>\n",
       "      <th>color</th>\n",
       "      <th>area</th>\n",
       "    </tr>\n",
       "  </thead>\n",
       "  <tbody>\n",
       "    <tr>\n",
       "      <th>0</th>\n",
       "      <td>blue</td>\n",
       "      <td>3039.212965</td>\n",
       "    </tr>\n",
       "    <tr>\n",
       "      <th>1</th>\n",
       "      <td>green</td>\n",
       "      <td>6695.029606</td>\n",
       "    </tr>\n",
       "    <tr>\n",
       "      <th>2</th>\n",
       "      <td>red</td>\n",
       "      <td>5092.678377</td>\n",
       "    </tr>\n",
       "    <tr>\n",
       "      <th>3</th>\n",
       "      <td>yellow</td>\n",
       "      <td>5352.460578</td>\n",
       "    </tr>\n",
       "  </tbody>\n",
       "</table>\n",
       "</div>"
      ],
      "text/plain": [
       "    color         area\n",
       "0    blue  3039.212965\n",
       "1   green  6695.029606\n",
       "2     red  5092.678377\n",
       "3  yellow  5352.460578"
      ]
     },
     "execution_count": 4,
     "metadata": {},
     "output_type": "execute_result"
    }
   ],
   "source": [
    "df.groupby('color', as_index=False)['area'].std()"
   ]
  },
  {
   "cell_type": "markdown",
   "id": "20572f85-8eee-4c48-857e-27518526c327",
   "metadata": {},
   "source": [
    "3. What is the average area size of a yellow square?"
   ]
  },
  {
   "cell_type": "code",
   "execution_count": 5,
   "id": "380ce1d2-7eef-4e8e-b0ec-63edbc8996d3",
   "metadata": {},
   "outputs": [
    {
     "name": "stdout",
     "output_type": "stream",
     "text": [
      "Average Area Size:\n",
      "33.31531531531532\n"
     ]
    }
   ],
   "source": [
    "total = 0\n",
    "count = 0\n",
    "\n",
    "for index, row in df.iterrows():\n",
    "    if row['shape'] == 'square' and row['color'] =='yellow':\n",
    "        count +=1\n",
    "        total = row['area']\n",
    "average = total/count\n",
    "print(\"Average Area Size:\")\n",
    "print(average)"
   ]
  },
  {
   "cell_type": "markdown",
   "id": "8bba84d0-7d7c-451e-a5ef-3f6dc3a86d8f",
   "metadata": {},
   "source": [
    "4. Which shape is most likely to be green?"
   ]
  },
  {
   "cell_type": "code",
   "execution_count": 6,
   "id": "f8ffb6d4-d4e7-49f1-b014-88b50ab0592c",
   "metadata": {},
   "outputs": [
    {
     "data": {
      "text/html": [
       "<div>\n",
       "<style scoped>\n",
       "    .dataframe tbody tr th:only-of-type {\n",
       "        vertical-align: middle;\n",
       "    }\n",
       "\n",
       "    .dataframe tbody tr th {\n",
       "        vertical-align: top;\n",
       "    }\n",
       "\n",
       "    .dataframe thead th {\n",
       "        text-align: right;\n",
       "    }\n",
       "</style>\n",
       "<table border=\"1\" class=\"dataframe\">\n",
       "  <thead>\n",
       "    <tr style=\"text-align: right;\">\n",
       "      <th></th>\n",
       "      <th>index</th>\n",
       "      <th>count</th>\n",
       "    </tr>\n",
       "  </thead>\n",
       "  <tbody>\n",
       "    <tr>\n",
       "      <th>0</th>\n",
       "      <td>square</td>\n",
       "      <td>477</td>\n",
       "    </tr>\n",
       "    <tr>\n",
       "      <th>1</th>\n",
       "      <td>triangle</td>\n",
       "      <td>403</td>\n",
       "    </tr>\n",
       "    <tr>\n",
       "      <th>2</th>\n",
       "      <td>circle</td>\n",
       "      <td>120</td>\n",
       "    </tr>\n",
       "  </tbody>\n",
       "</table>\n",
       "</div>"
      ],
      "text/plain": [
       "      index  count\n",
       "0    square    477\n",
       "1  triangle    403\n",
       "2    circle    120"
      ]
     },
     "execution_count": 6,
     "metadata": {},
     "output_type": "execute_result"
    }
   ],
   "source": [
    "scount = 0\n",
    "tcount = 0\n",
    "ccount = 0\n",
    "#goes through the df and gets only the green for each shape\n",
    "for index, row in df.iterrows():\n",
    "    if row['shape'] == 'square' and row['color'] =='green':\n",
    "        scount +=1\n",
    "    if row['shape'] == 'triangle' and row['color'] == 'green':\n",
    "        tcount +=1\n",
    "    if row['shape'] == 'circle' and row['color'] == 'green':\n",
    "        ccount +=1\n",
    "df2 = df['shape'].value_counts().reset_index(name='count')\n",
    "df2"
   ]
  },
  {
   "cell_type": "markdown",
   "id": "4bbe6e3c-8372-41dd-8a0a-773cf2064c27",
   "metadata": {},
   "source": [
    "calculation for each shape"
   ]
  },
  {
   "cell_type": "code",
   "execution_count": 7,
   "id": "889dae8b-417e-4920-8da3-47a5a07bfcde",
   "metadata": {},
   "outputs": [
    {
     "name": "stdout",
     "output_type": "stream",
     "text": [
      "square\n",
      "0.09853249475890985\n",
      "triange\n",
      "0.0\n",
      "circle\n",
      "0.25833333333333336\n"
     ]
    }
   ],
   "source": [
    "for index, row in df2.iterrows():\n",
    "    #prints and does each calculation in the df\n",
    "    if row['index'] == 'square':\n",
    "        print('square')\n",
    "        print(scount/row['count'])\n",
    "    if row['index'] == 'circle':\n",
    "        print('circle')\n",
    "        print(ccount/row['count'])\n",
    "    if row['index'] == 'square':\n",
    "        print('triange')\n",
    "        print(tcount/row['count'])"
   ]
  },
  {
   "cell_type": "markdown",
   "id": "c677f531-9767-4aed-a9f9-98302c4adc53",
   "metadata": {},
   "source": [
    "Circle is the most likely to be green"
   ]
  },
  {
   "cell_type": "markdown",
   "id": "1802401a-e1ff-4333-8211-fef8cc2e937d",
   "metadata": {},
   "source": [
    "5. Given the fact that the object is red, with an area size larger than 3,000 - what are the chances the object is a square? a triangle? a circle?"
   ]
  },
  {
   "cell_type": "code",
   "execution_count": 8,
   "id": "7b98b367-4b7b-4385-8957-f9bef606e0fa",
   "metadata": {},
   "outputs": [
    {
     "name": "stdout",
     "output_type": "stream",
     "text": [
      "square chance\n",
      "0.168\n",
      "circle chance\n",
      "0.16\n",
      "triangle chance\n",
      "0.672\n"
     ]
    }
   ],
   "source": [
    "scount = 0\n",
    "tcount = 0\n",
    "ccount = 0\n",
    "count = 0\n",
    "#goes through each row and then keeps track\n",
    "for index, row in df.iterrows():\n",
    "    if row['color']== 'red' and row['area'] > 3000:\n",
    "        if row['shape'] == 'square':\n",
    "            scount+=1\n",
    "        if row['shape'] == 'circle':\n",
    "            ccount+=1\n",
    "        if row['shape'] == 'triangle':\n",
    "            tcount+=1\n",
    "        count += 1\n",
    "print('square chance')\n",
    "print(scount/count)\n",
    "print('circle chance')\n",
    "print(ccount/count)\n",
    "print('triangle chance')\n",
    "print(tcount/count)"
   ]
  },
  {
   "cell_type": "markdown",
   "id": "bee31a08-5ba9-473e-97c6-9ee5ca018f4a",
   "metadata": {},
   "source": [
    "6. Write a function that calculates the side or radius of an object, depending on the shape and area of the object [for an equilateral triangle - area = (side ^ 2) * sqrt(3) / 4]."
   ]
  },
  {
   "cell_type": "code",
   "execution_count": 9,
   "id": "5f157828-967c-4621-9b3b-cf015f4cfa1c",
   "metadata": {},
   "outputs": [],
   "source": [
    "import math\n",
    "radius = 0\n",
    "#calculates the shapes\n",
    "def calculate (shape, area):\n",
    "    if shape=='circle':\n",
    "        radius = math.sqrt(area/math.pi)\n",
    "    if shape=='triangle':\n",
    "        radius = (2/3)*(3**(3/4))*(math.sqrt(area))\n",
    "    if shape=='square':\n",
    "        radius = math.sqrt(area)\n",
    "    return radius\n",
    "        "
   ]
  },
  {
   "cell_type": "markdown",
   "id": "745dfc76-bafc-47e9-a1f2-2230751d8957",
   "metadata": {},
   "source": [
    "7. Add a column to the dataset called \"side\" that shows the size matching the area in each row, round that number to the closest integer (shape side or radius)."
   ]
  },
  {
   "cell_type": "code",
   "execution_count": 10,
   "id": "0d02712e-2be0-4285-8608-0d02ee149962",
   "metadata": {},
   "outputs": [
    {
     "data": {
      "text/html": [
       "<div>\n",
       "<style scoped>\n",
       "    .dataframe tbody tr th:only-of-type {\n",
       "        vertical-align: middle;\n",
       "    }\n",
       "\n",
       "    .dataframe tbody tr th {\n",
       "        vertical-align: top;\n",
       "    }\n",
       "\n",
       "    .dataframe thead th {\n",
       "        text-align: right;\n",
       "    }\n",
       "</style>\n",
       "<table border=\"1\" class=\"dataframe\">\n",
       "  <thead>\n",
       "    <tr style=\"text-align: right;\">\n",
       "      <th></th>\n",
       "      <th>shape</th>\n",
       "      <th>color</th>\n",
       "      <th>area</th>\n",
       "      <th>side</th>\n",
       "    </tr>\n",
       "  </thead>\n",
       "  <tbody>\n",
       "    <tr>\n",
       "      <th>0</th>\n",
       "      <td>square</td>\n",
       "      <td>yellow</td>\n",
       "      <td>9409.0</td>\n",
       "      <td>97.000000</td>\n",
       "    </tr>\n",
       "    <tr>\n",
       "      <th>1</th>\n",
       "      <td>circle</td>\n",
       "      <td>yellow</td>\n",
       "      <td>4071.5</td>\n",
       "      <td>35.999982</td>\n",
       "    </tr>\n",
       "    <tr>\n",
       "      <th>2</th>\n",
       "      <td>triangle</td>\n",
       "      <td>blue</td>\n",
       "      <td>2028.0</td>\n",
       "      <td>68.435849</td>\n",
       "    </tr>\n",
       "    <tr>\n",
       "      <th>3</th>\n",
       "      <td>square</td>\n",
       "      <td>blue</td>\n",
       "      <td>3025.0</td>\n",
       "      <td>55.000000</td>\n",
       "    </tr>\n",
       "    <tr>\n",
       "      <th>4</th>\n",
       "      <td>square</td>\n",
       "      <td>blue</td>\n",
       "      <td>9216.0</td>\n",
       "      <td>96.000000</td>\n",
       "    </tr>\n",
       "    <tr>\n",
       "      <th>...</th>\n",
       "      <td>...</td>\n",
       "      <td>...</td>\n",
       "      <td>...</td>\n",
       "      <td>...</td>\n",
       "    </tr>\n",
       "    <tr>\n",
       "      <th>995</th>\n",
       "      <td>square</td>\n",
       "      <td>green</td>\n",
       "      <td>81.0</td>\n",
       "      <td>9.000000</td>\n",
       "    </tr>\n",
       "    <tr>\n",
       "      <th>996</th>\n",
       "      <td>square</td>\n",
       "      <td>yellow</td>\n",
       "      <td>4624.0</td>\n",
       "      <td>68.000000</td>\n",
       "    </tr>\n",
       "    <tr>\n",
       "      <th>997</th>\n",
       "      <td>circle</td>\n",
       "      <td>green</td>\n",
       "      <td>24884.6</td>\n",
       "      <td>89.000080</td>\n",
       "    </tr>\n",
       "    <tr>\n",
       "      <th>998</th>\n",
       "      <td>square</td>\n",
       "      <td>yellow</td>\n",
       "      <td>7396.0</td>\n",
       "      <td>86.000000</td>\n",
       "    </tr>\n",
       "    <tr>\n",
       "      <th>999</th>\n",
       "      <td>circle</td>\n",
       "      <td>red</td>\n",
       "      <td>15836.8</td>\n",
       "      <td>71.000070</td>\n",
       "    </tr>\n",
       "  </tbody>\n",
       "</table>\n",
       "<p>1000 rows × 4 columns</p>\n",
       "</div>"
      ],
      "text/plain": [
       "        shape   color     area       side\n",
       "0      square  yellow   9409.0  97.000000\n",
       "1      circle  yellow   4071.5  35.999982\n",
       "2    triangle    blue   2028.0  68.435849\n",
       "3      square    blue   3025.0  55.000000\n",
       "4      square    blue   9216.0  96.000000\n",
       "..        ...     ...      ...        ...\n",
       "995    square   green     81.0   9.000000\n",
       "996    square  yellow   4624.0  68.000000\n",
       "997    circle   green  24884.6  89.000080\n",
       "998    square  yellow   7396.0  86.000000\n",
       "999    circle     red  15836.8  71.000070\n",
       "\n",
       "[1000 rows x 4 columns]"
      ]
     },
     "execution_count": 10,
     "metadata": {},
     "output_type": "execute_result"
    }
   ],
   "source": [
    "sides = []\n",
    "for index, row in df.iterrows():\n",
    "    ans = calculate(row['shape'],row['area'])\n",
    "    sides.append(ans)\n",
    "df['side'] = sides\n",
    "df"
   ]
  },
  {
   "cell_type": "markdown",
   "id": "4c761616-9328-45c6-aa73-9ebe4f353304",
   "metadata": {},
   "source": [
    "8. Draw a boxplot showing the side size distribution for each shape - what can you infer from this plot?"
   ]
  },
  {
   "cell_type": "code",
   "execution_count": 11,
   "id": "d9745870-b236-487d-a2ef-430df769daad",
   "metadata": {},
   "outputs": [
    {
     "data": {
      "text/plain": [
       "<AxesSubplot:title={'center':'side'}, xlabel='shape'>"
      ]
     },
     "execution_count": 11,
     "metadata": {},
     "output_type": "execute_result"
    },
    {
     "data": {
      "image/png": "[encoded data removed]",
      "text/plain": [
       "<Figure size 432x288 with 1 Axes>"
      ]
     },
     "metadata": {
      "needs_background": "light"
     },
     "output_type": "display_data"
    }
   ],
   "source": [
    "boxplot = df.boxplot(by='shape',column=['side'], grid=False)\n",
    "\n",
    "boxplot"
   ]
  },
  {
   "cell_type": "raw",
   "id": "7c942eb0-295a-484f-8b66-1ebbaeead72e",
   "metadata": {},
   "source": [
    "Triange has the biggest range"
   ]
  },
  {
   "cell_type": "markdown",
   "id": "158d491a-cddf-4869-a610-d8505842f4c9",
   "metadata": {},
   "source": [
    "9. Make a scatter plot with \"side\" on the x axis, \"area\" on the y axis with a different color for each shape."
   ]
  },
  {
   "cell_type": "code",
   "execution_count": 12,
   "id": "9e8dd1b8-deb8-44fb-9596-7f63a1828e03",
   "metadata": {},
   "outputs": [
    {
     "data": {
      "text/plain": [
       "<matplotlib.legend.Legend at 0x7f7df5323640>"
      ]
     },
     "execution_count": 12,
     "metadata": {},
     "output_type": "execute_result"
    },
    {
     "data": {
      "image/png": "[encoded data removed]",
      "text/plain": [
       "<Figure size 432x288 with 1 Axes>"
      ]
     },
     "metadata": {
      "needs_background": "light"
     },
     "output_type": "display_data"
    }
   ],
   "source": [
    "import matplotlib.pyplot as plt\n",
    "\n",
    "\n",
    "groups = df.groupby('shape')\n",
    "for name, group in groups:\n",
    "    plt.plot(group.side, group.area, marker='o', linestyle='', markersize=3, label=name)\n",
    "plt.legend()\n",
    "\n"
   ]
  },
  {
   "cell_type": "markdown",
   "id": "3e1995d1-f2ba-4add-a8b9-01f0b7cca174",
   "metadata": {},
   "source": [
    "10. Create a dataframe, table or list that show for each shape:"
   ]
  },
  {
   "cell_type": "markdown",
   "id": "e5afc974-7fa5-46f8-af61-62d3336298e0",
   "metadata": {},
   "source": [
    "    a. The proportion of red objects within the shape"
   ]
  },
  {
   "cell_type": "markdown",
   "id": "6f1636ba-1cf8-4b18-aeda-c5c79aec5fb4",
   "metadata": {},
   "source": [
    "I'm outputting how many reds there are in total compared to the others, which shows 290.  29%"
   ]
  },
  {
   "cell_type": "code",
   "execution_count": 13,
   "id": "80868e57-fcbb-4c17-9d15-1f9135376039",
   "metadata": {},
   "outputs": [
    {
     "data": {
      "text/plain": [
       "blue      360\n",
       "red       290\n",
       "yellow    272\n",
       "green      78\n",
       "Name: color, dtype: int64"
      ]
     },
     "execution_count": 13,
     "metadata": {},
     "output_type": "execute_result"
    }
   ],
   "source": [
    "df4 = df[\"color\"].value_counts()\n",
    "df4\n"
   ]
  },
  {
   "cell_type": "markdown",
   "id": "c77af5ea-d1c7-4ac1-8c19-a5d3452e4976",
   "metadata": {},
   "source": [
    "pie chart of each porportion"
   ]
  },
  {
   "cell_type": "code",
   "execution_count": 14,
   "id": "998df1d7-bab0-4700-b260-c5539c88b93f",
   "metadata": {},
   "outputs": [
    {
     "data": {
      "image/png": "[encoded data removed]",
      "text/plain": [
       "<Figure size 792x432 with 1 Axes>"
      ]
     },
     "metadata": {},
     "output_type": "display_data"
    }
   ],
   "source": [
    "colors = ['#0000FF','#FF0000','#FFFF00', '#00FF00']\n",
    "plot = df4.plot.pie(subplots=True, colors = colors, figsize=(11, 6))"
   ]
  },
  {
   "cell_type": "code",
   "execution_count": null,
   "id": "8986e2d8-456d-46b8-b713-d322c968fdda",
   "metadata": {},
   "outputs": [],
   "source": []
  },
  {
   "cell_type": "markdown",
   "id": "c893f933-0dae-4b4e-9cca-0919b24d7b91",
   "metadata": {},
   "source": [
    "b. The proportion of blue area out of the shape's total area (sum of square inch blue area of the shape over sum of all shape size)."
   ]
  },
  {
   "cell_type": "markdown",
   "id": "cbe6dc67-a273-4fc2-a12c-d716bb2caca5",
   "metadata": {},
   "source": [
    "This wording was very confusing to me.  I'm not exactly sure what it's asking.  \n",
    "I'm outputting a dataframe of the sum of all areas for each color.  Since it says all shape sizes for blue.  "
   ]
  },
  {
   "cell_type": "code",
   "execution_count": 15,
   "id": "488fde09-5b60-4a78-a17f-ad6d4d148147",
   "metadata": {},
   "outputs": [
    {
     "data": {
      "text/html": [
       "<div>\n",
       "<style scoped>\n",
       "    .dataframe tbody tr th:only-of-type {\n",
       "        vertical-align: middle;\n",
       "    }\n",
       "\n",
       "    .dataframe tbody tr th {\n",
       "        vertical-align: top;\n",
       "    }\n",
       "\n",
       "    .dataframe thead th {\n",
       "        text-align: right;\n",
       "    }\n",
       "</style>\n",
       "<table border=\"1\" class=\"dataframe\">\n",
       "  <thead>\n",
       "    <tr style=\"text-align: right;\">\n",
       "      <th></th>\n",
       "      <th>color</th>\n",
       "      <th>area</th>\n",
       "    </tr>\n",
       "  </thead>\n",
       "  <tbody>\n",
       "    <tr>\n",
       "      <th>0</th>\n",
       "      <td>blue</td>\n",
       "      <td>1154927.4</td>\n",
       "    </tr>\n",
       "    <tr>\n",
       "      <th>1</th>\n",
       "      <td>green</td>\n",
       "      <td>449367.3</td>\n",
       "    </tr>\n",
       "    <tr>\n",
       "      <th>2</th>\n",
       "      <td>red</td>\n",
       "      <td>1106602.6</td>\n",
       "    </tr>\n",
       "    <tr>\n",
       "      <th>3</th>\n",
       "      <td>yellow</td>\n",
       "      <td>1234392.6</td>\n",
       "    </tr>\n",
       "  </tbody>\n",
       "</table>\n",
       "</div>"
      ],
      "text/plain": [
       "    color       area\n",
       "0    blue  1154927.4\n",
       "1   green   449367.3\n",
       "2     red  1106602.6\n",
       "3  yellow  1234392.6"
      ]
     },
     "execution_count": 15,
     "metadata": {},
     "output_type": "execute_result"
    }
   ],
   "source": [
    "df5= df.groupby('color', as_index=False)['area'].sum()\n",
    "df5"
   ]
  },
  {
   "cell_type": "markdown",
   "id": "30d1b2d4-536c-4891-a4c1-99251c83fa9c",
   "metadata": {},
   "source": [
    "Here is a Pie chart of all colors in terms of area."
   ]
  },
  {
   "cell_type": "code",
   "execution_count": 16,
   "id": "24467c2f-6415-460f-b5e0-8fa1b13cdb96",
   "metadata": {},
   "outputs": [
    {
     "data": {
      "image/png": "[encoded data removed]",
      "text/plain": [
       "<Figure size 360x360 with 1 Axes>"
      ]
     },
     "metadata": {},
     "output_type": "display_data"
    }
   ],
   "source": [
    "colors = ['#0000FF', '#00FF00','#FF0000','#FFFF00']\n",
    "plot2 = df5.plot.pie(x='color',y='area', colors= colors, figsize=(5, 5))"
   ]
  },
  {
   "cell_type": "code",
   "execution_count": 17,
   "id": "016ac4b2-ffd2-4ad9-a768-ae426b5939b9",
   "metadata": {},
   "outputs": [
    {
     "data": {
      "text/plain": [
       "3945289.9"
      ]
     },
     "execution_count": 17,
     "metadata": {},
     "output_type": "execute_result"
    }
   ],
   "source": [
    "total = df5['area'].sum()\n",
    "total"
   ]
  },
  {
   "cell_type": "code",
   "execution_count": 18,
   "id": "88458b2a-4d76-4d93-bd46-4ebf216949b6",
   "metadata": {},
   "outputs": [
    {
     "name": "stdout",
     "output_type": "stream",
     "text": [
      "proportion\n",
      "0    0.292736\n",
      "Name: area, dtype: float64\n"
     ]
    }
   ],
   "source": [
    "blue = df5[df5['color']=='blue']['area']\n",
    "print('proportion')\n",
    "print(blue/total)"
   ]
  },
  {
   "cell_type": "markdown",
   "id": "8470df52-7ac1-47df-b5d9-3b4200ea82d2",
   "metadata": {},
   "source": [
    "11. Create a function that calculates 10. b. for a given shape and color."
   ]
  },
  {
   "cell_type": "code",
   "execution_count": 19,
   "id": "e0501d84-1163-4f04-a512-52c932d4b75f",
   "metadata": {},
   "outputs": [
    {
     "name": "stdout",
     "output_type": "stream",
     "text": [
      "porportion\n"
     ]
    },
    {
     "data": {
      "text/plain": [
       "0.04476857328025502"
      ]
     },
     "execution_count": 19,
     "metadata": {},
     "output_type": "execute_result"
    }
   ],
   "source": [
    "#sums all the area based on a given shape and color\n",
    "def calculates_porportion(shape, color):\n",
    "    ans = df.loc[(df['shape'] == shape) & (df['color'] == color), 'area'].sum()\n",
    "    return ans\n",
    "\n",
    "\n",
    "porp = calculates_porportion('square', 'red')\n",
    "total = df5['area'].sum()\n",
    "print('porportion')\n",
    "porp/total"
   ]
  },
  {
   "cell_type": "code",
   "execution_count": null,
   "id": "642f4aa6-054c-4d32-9196-eac93d159144",
   "metadata": {},
   "outputs": [],
   "source": [
    "\n"
   ]
  }
 ],
 "metadata": {
  "kernelspec": {
   "display_name": "Python 3 (ipykernel)",
   "language": "python",
   "name": "python3"
  },
  "language_info": {
   "codemirror_mode": {
    "name": "ipython",
    "version": 3
   },
   "file_extension": ".py",
   "mimetype": "text/x-python",
   "name": "python",
   "nbconvert_exporter": "python",
   "pygments_lexer": "ipython3",
   "version": "3.8.10"
  }
 },
 "nbformat": 4,
 "nbformat_minor": 5
}
