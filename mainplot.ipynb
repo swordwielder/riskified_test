{
 "cells": [
  {
   "cell_type": "code",
   "execution_count": 2,
   "id": "02fb69fd-58a1-4f7b-ac15-bccb4d79b647",
   "metadata": {},
   "outputs": [
    {
     "data": {
      "text/plain": [
       "<AxesSubplot:title={'center':'area'}, xlabel='shape'>"
      ]
     },
     "execution_count": 2,
     "metadata": {},
     "output_type": "execute_result"
    },
    {
     "data": {
      "image/png": "[encoded data removed]",
      "text/plain": [
       "<Figure size 432x288 with 1 Axes>"
      ]
     },
     "metadata": {
      "needs_background": "light"
     },
     "output_type": "display_data"
    }
   ],
   "source": [
    "import matplotlib\n",
    "import pandas as pd\n",
    "\n",
    "df = pd.read_csv('data.csv')\n",
    "\n",
    "#print(df.to_string())\n",
    "\n",
    "#print(df['area'])\n",
    "boxplot = df.boxplot(by='shape',column=['area'], grid=False)\n",
    "\n",
    "boxplot"
   ]
  },
  {
   "cell_type": "markdown",
   "id": "1781a8b4-30ce-4094-945f-0b21dc4428d6",
   "metadata": {},
   "source": [
    "Mean of the color"
   ]
  },
  {
   "cell_type": "code",
   "execution_count": 3,
   "id": "21523474-0e8c-4331-b50d-0a50c5c07cc4",
   "metadata": {},
   "outputs": [
    {
     "data": {
      "text/html": [
       "<div>\n",
       "<style scoped>\n",
       "    .dataframe tbody tr th:only-of-type {\n",
       "        vertical-align: middle;\n",
       "    }\n",
       "\n",
       "    .dataframe tbody tr th {\n",
       "        vertical-align: top;\n",
       "    }\n",
       "\n",
       "    .dataframe thead th {\n",
       "        text-align: right;\n",
       "    }\n",
       "</style>\n",
       "<table border=\"1\" class=\"dataframe\">\n",
       "  <thead>\n",
       "    <tr style=\"text-align: right;\">\n",
       "      <th></th>\n",
       "      <th>color</th>\n",
       "      <th>area</th>\n",
       "    </tr>\n",
       "  </thead>\n",
       "  <tbody>\n",
       "    <tr>\n",
       "      <th>0</th>\n",
       "      <td>blue</td>\n",
       "      <td>3208.131667</td>\n",
       "    </tr>\n",
       "    <tr>\n",
       "      <th>1</th>\n",
       "      <td>green</td>\n",
       "      <td>5761.119231</td>\n",
       "    </tr>\n",
       "    <tr>\n",
       "      <th>2</th>\n",
       "      <td>red</td>\n",
       "      <td>3815.871034</td>\n",
       "    </tr>\n",
       "    <tr>\n",
       "      <th>3</th>\n",
       "      <td>yellow</td>\n",
       "      <td>4538.208088</td>\n",
       "    </tr>\n",
       "  </tbody>\n",
       "</table>\n",
       "</div>"
      ],
      "text/plain": [
       "    color         area\n",
       "0    blue  3208.131667\n",
       "1   green  5761.119231\n",
       "2     red  3815.871034\n",
       "3  yellow  4538.208088"
      ]
     },
     "execution_count": 3,
     "metadata": {},
     "output_type": "execute_result"
    }
   ],
   "source": [
    "df.groupby('color', as_index=False)['area'].mean()"
   ]
  },
  {
   "cell_type": "markdown",
   "id": "55a4233f-8469-4f1f-ae07-e8080fe0e319",
   "metadata": {},
   "source": [
    "Max of the color"
   ]
  },
  {
   "cell_type": "code",
   "execution_count": 4,
   "id": "2febf86e-22e2-44cc-a63f-f08952d83bd0",
   "metadata": {},
   "outputs": [
    {
     "data": {
      "text/html": [
       "<div>\n",
       "<style scoped>\n",
       "    .dataframe tbody tr th:only-of-type {\n",
       "        vertical-align: middle;\n",
       "    }\n",
       "\n",
       "    .dataframe tbody tr th {\n",
       "        vertical-align: top;\n",
       "    }\n",
       "\n",
       "    .dataframe thead th {\n",
       "        text-align: right;\n",
       "    }\n",
       "</style>\n",
       "<table border=\"1\" class=\"dataframe\">\n",
       "  <thead>\n",
       "    <tr style=\"text-align: right;\">\n",
       "      <th></th>\n",
       "      <th>color</th>\n",
       "      <th>area</th>\n",
       "    </tr>\n",
       "  </thead>\n",
       "  <tbody>\n",
       "    <tr>\n",
       "      <th>0</th>\n",
       "      <td>blue</td>\n",
       "      <td>21642.4</td>\n",
       "    </tr>\n",
       "    <tr>\n",
       "      <th>1</th>\n",
       "      <td>green</td>\n",
       "      <td>27759.1</td>\n",
       "    </tr>\n",
       "    <tr>\n",
       "      <th>2</th>\n",
       "      <td>red</td>\n",
       "      <td>31415.9</td>\n",
       "    </tr>\n",
       "    <tr>\n",
       "      <th>3</th>\n",
       "      <td>yellow</td>\n",
       "      <td>31415.9</td>\n",
       "    </tr>\n",
       "  </tbody>\n",
       "</table>\n",
       "</div>"
      ],
      "text/plain": [
       "    color     area\n",
       "0    blue  21642.4\n",
       "1   green  27759.1\n",
       "2     red  31415.9\n",
       "3  yellow  31415.9"
      ]
     },
     "execution_count": 4,
     "metadata": {},
     "output_type": "execute_result"
    }
   ],
   "source": [
    "df.groupby('color', as_index=False)['area'].max()"
   ]
  },
  {
   "cell_type": "markdown",
   "id": "3d4e870d-0063-497b-80ad-bd7f7def1754",
   "metadata": {},
   "source": [
    "Standard deviation"
   ]
  },
  {
   "cell_type": "code",
   "execution_count": 5,
   "id": "57b939df-e54e-4f1c-9b00-88bd350c96d4",
   "metadata": {},
   "outputs": [
    {
     "data": {
      "text/html": [
       "<div>\n",
       "<style scoped>\n",
       "    .dataframe tbody tr th:only-of-type {\n",
       "        vertical-align: middle;\n",
       "    }\n",
       "\n",
       "    .dataframe tbody tr th {\n",
       "        vertical-align: top;\n",
       "    }\n",
       "\n",
       "    .dataframe thead th {\n",
       "        text-align: right;\n",
       "    }\n",
       "</style>\n",
       "<table border=\"1\" class=\"dataframe\">\n",
       "  <thead>\n",
       "    <tr style=\"text-align: right;\">\n",
       "      <th></th>\n",
       "      <th>color</th>\n",
       "      <th>area</th>\n",
       "    </tr>\n",
       "  </thead>\n",
       "  <tbody>\n",
       "    <tr>\n",
       "      <th>0</th>\n",
       "      <td>blue</td>\n",
       "      <td>3039.212965</td>\n",
       "    </tr>\n",
       "    <tr>\n",
       "      <th>1</th>\n",
       "      <td>green</td>\n",
       "      <td>6695.029606</td>\n",
       "    </tr>\n",
       "    <tr>\n",
       "      <th>2</th>\n",
       "      <td>red</td>\n",
       "      <td>5092.678377</td>\n",
       "    </tr>\n",
       "    <tr>\n",
       "      <th>3</th>\n",
       "      <td>yellow</td>\n",
       "      <td>5352.460578</td>\n",
       "    </tr>\n",
       "  </tbody>\n",
       "</table>\n",
       "</div>"
      ],
      "text/plain": [
       "    color         area\n",
       "0    blue  3039.212965\n",
       "1   green  6695.029606\n",
       "2     red  5092.678377\n",
       "3  yellow  5352.460578"
      ]
     },
     "execution_count": 5,
     "metadata": {},
     "output_type": "execute_result"
    }
   ],
   "source": [
    "df.groupby('color', as_index=False)['area'].std()"
   ]
  },
  {
   "cell_type": "markdown",
   "id": "62563c15-b838-4fe0-a460-febcec4a1dca",
   "metadata": {},
   "source": [
    "average of yellow square"
   ]
  },
  {
   "cell_type": "code",
   "execution_count": 8,
   "id": "380ce1d2-7eef-4e8e-b0ec-63edbc8996d3",
   "metadata": {},
   "outputs": [
    {
     "name": "stdout",
     "output_type": "stream",
     "text": [
      "Average Area Size:\n",
      "33.31531531531532\n"
     ]
    }
   ],
   "source": [
    "total = 0\n",
    "count = 0\n",
    "for index, row in df.iterrows():\n",
    "    if row['shape'] == 'square' and row['color'] =='yellow':\n",
    "        count +=1\n",
    "        total = row['area']\n",
    "average = total/count\n",
    "print(\"Average Area Size:\")\n",
    "print(average)"
   ]
  },
  {
   "cell_type": "markdown",
   "id": "f8a9ecdb-2423-4ed6-868b-12b8ba49056b",
   "metadata": {},
   "source": [
    "gets all occurence"
   ]
  },
  {
   "cell_type": "code",
   "execution_count": 30,
   "id": "f8ffb6d4-d4e7-49f1-b014-88b50ab0592c",
   "metadata": {},
   "outputs": [
    {
     "data": {
      "text/html": [
       "<div>\n",
       "<style scoped>\n",
       "    .dataframe tbody tr th:only-of-type {\n",
       "        vertical-align: middle;\n",
       "    }\n",
       "\n",
       "    .dataframe tbody tr th {\n",
       "        vertical-align: top;\n",
       "    }\n",
       "\n",
       "    .dataframe thead th {\n",
       "        text-align: right;\n",
       "    }\n",
       "</style>\n",
       "<table border=\"1\" class=\"dataframe\">\n",
       "  <thead>\n",
       "    <tr style=\"text-align: right;\">\n",
       "      <th></th>\n",
       "      <th>index</th>\n",
       "      <th>count</th>\n",
       "    </tr>\n",
       "  </thead>\n",
       "  <tbody>\n",
       "    <tr>\n",
       "      <th>0</th>\n",
       "      <td>square</td>\n",
       "      <td>477</td>\n",
       "    </tr>\n",
       "    <tr>\n",
       "      <th>1</th>\n",
       "      <td>triangle</td>\n",
       "      <td>403</td>\n",
       "    </tr>\n",
       "    <tr>\n",
       "      <th>2</th>\n",
       "      <td>circle</td>\n",
       "      <td>120</td>\n",
       "    </tr>\n",
       "  </tbody>\n",
       "</table>\n",
       "</div>"
      ],
      "text/plain": [
       "      index  count\n",
       "0    square    477\n",
       "1  triangle    403\n",
       "2    circle    120"
      ]
     },
     "execution_count": 30,
     "metadata": {},
     "output_type": "execute_result"
    }
   ],
   "source": [
    "scount = 0\n",
    "tcount =0\n",
    "ccount=0\n",
    "for index, row in df.iterrows():\n",
    "    if row['shape'] == 'square' and row['color'] =='green':\n",
    "        scount +=1\n",
    "    if row['shape'] == 'triangle' and row['color'] == 'green':\n",
    "        tcount +=1\n",
    "    if row['shape'] == 'circle' and row['color'] == 'green':\n",
    "        ccount +=1\n",
    "df2 = df['shape'].value_counts().reset_index(name='count')\n",
    "df2"
   ]
  },
  {
   "cell_type": "code",
   "execution_count": null,
   "id": "daa6d381-5b11-48d9-be70-02e5e6f959f0",
   "metadata": {},
   "outputs": [],
   "source": []
  },
  {
   "cell_type": "code",
   "execution_count": 31,
   "id": "889dae8b-417e-4920-8da3-47a5a07bfcde",
   "metadata": {},
   "outputs": [
    {
     "name": "stdout",
     "output_type": "stream",
     "text": [
      "square\n",
      "0.09853249475890985\n",
      "triange\n",
      "0.0\n",
      "circle\n",
      "0.25833333333333336\n"
     ]
    }
   ],
   "source": [
    "for index, row in df2.iterrows():\n",
    "    if row['index'] == 'square':\n",
    "        print('square')\n",
    "        print(scount/row['count'])\n",
    "    if row['index'] == 'circle':\n",
    "        print('circle')\n",
    "        print(ccount/row['count'])\n",
    "    if row['index'] == 'square':\n",
    "        print('triange')\n",
    "        print(tcount/row['count'])"
   ]
  },
  {
   "cell_type": "markdown",
   "id": "c677f531-9767-4aed-a9f9-98302c4adc53",
   "metadata": {},
   "source": [
    "Circle is the most likely to be green"
   ]
  },
  {
   "cell_type": "code",
   "execution_count": null,
   "id": "7b98b367-4b7b-4385-8957-f9bef606e0fa",
   "metadata": {},
   "outputs": [],
   "source": []
  }
 ],
 "metadata": {
  "kernelspec": {
   "display_name": "Python 3 (ipykernel)",
   "language": "python",
   "name": "python3"
  },
  "language_info": {
   "codemirror_mode": {
    "name": "ipython",
    "version": 3
   },
   "file_extension": ".py",
   "mimetype": "text/x-python",
   "name": "python",
   "nbconvert_exporter": "python",
   "pygments_lexer": "ipython3",
   "version": "3.8.10"
  }
 },
 "nbformat": 4,
 "nbformat_minor": 5
}
